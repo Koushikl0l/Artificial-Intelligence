{
  "nbformat": 4,
  "nbformat_minor": 0,
  "metadata": {
    "colab": {
      "private_outputs": true,
      "provenance": [],
      "collapsed_sections": [],
      "mount_file_id": "1GQJLXMx8_QdAJqTzU56Cui-7HtBeOCdA",
      "authorship_tag": "ABX9TyN/3Bnb+sStaLthk7aSoEhJ",
      "include_colab_link": true
    },
    "kernelspec": {
      "name": "python3",
      "display_name": "Python 3"
    },
    "language_info": {
      "name": "python"
    }
  },
  "cells": [
    {
      "cell_type": "markdown",
      "metadata": {
        "id": "view-in-github",
        "colab_type": "text"
      },
      "source": [
        "<a href=\"https://colab.research.google.com/github/koushik1234/Artificial-Intelligence/blob/master/Linear_and_NonLinear_Transformation.ipynb\" target=\"_parent\"><img src=\"https://colab.research.google.com/assets/colab-badge.svg\" alt=\"Open In Colab\"/></a>"
      ]
    },
    {
      "cell_type": "code",
      "source": [
        "import cv2\n",
        "import numpy as np\n",
        "import matplotlib.pyplot as plt\n",
        "from google.colab import drive\n",
        "import warnings\n",
        "warnings.filterwarnings(\"ignore\")"
      ],
      "metadata": {
        "id": "UCojYm_b67eo"
      },
      "execution_count": null,
      "outputs": []
    },
    {
      "cell_type": "code",
      "source": [
        "drive.mount('/content/drive')\n",
        "image='/content/drive/MyDrive/Photos mine/IMG20200815212016.jpg'"
      ],
      "metadata": {
        "id": "zO9qO9_2wEPL"
      },
      "execution_count": null,
      "outputs": []
    },
    {
      "cell_type": "markdown",
      "source": [
        "###Load Image"
      ],
      "metadata": {
        "id": "qF8kROv78V0T"
      }
    },
    {
      "cell_type": "code",
      "source": [
        "# Load the image.\n",
        "img = cv2.imread(image)\n",
        "img = cv2.cvtColor(img, cv2.COLOR_BGR2GRAY)"
      ],
      "metadata": {
        "id": "6bqgUkHW8TUR"
      },
      "execution_count": null,
      "outputs": []
    },
    {
      "cell_type": "markdown",
      "source": [
        "###NonLinear Trasformation"
      ],
      "metadata": {
        "id": "4ifJPl7_tkuL"
      }
    },
    {
      "cell_type": "code",
      "source": [
        "# Apply log transform.\n",
        "c = 255/(np.log(1 + np.max(img))) #use your own value\n",
        "log_transformed = c * np.log(1 + img)\n",
        "#log_transformed =  np.log(1 + c* img)\n",
        "# Specify the data type.\n",
        "log_transformed = np.array(log_transformed, dtype = np.uint8)"
      ],
      "metadata": {
        "id": "_Z2Zsxfg2mGL"
      },
      "execution_count": null,
      "outputs": []
    },
    {
      "cell_type": "code",
      "execution_count": null,
      "metadata": {
        "id": "0hYnL0pEsIfg"
      },
      "outputs": [],
      "source": [
        "# create figure\n",
        "rows=1\n",
        "columns=2\n",
        "fig = plt.figure(figsize=(10, 7))\n",
        "\n",
        "fig.add_subplot(rows, columns, 1)\n",
        "# showing image\n",
        "plt.imshow(img)\n",
        "plt.axis('off')\n",
        "plt.title(\"Original\")\n",
        "\n",
        "# Adds a subplot at the 2nd position\n",
        "fig.add_subplot(rows, columns, 2)\n",
        "# showing image\n",
        "plt.imshow(log_transformed)\n",
        "plt.axis('off')\n",
        "plt.title(\"NonLinear Transformation\")                    \n"
      ]
    },
    {
      "cell_type": "markdown",
      "source": [
        "### Linear Transformation"
      ],
      "metadata": {
        "id": "ilfUIinFt42t"
      }
    },
    {
      "cell_type": "code",
      "source": [
        "# Define parameters.\n",
        "fmin = img.min(axis=0).min(axis=0)\n",
        "fmax = img.max(axis=0).max(axis=0)\n",
        "Gmin = 20 # use your own value\n",
        "Gmax = 60 #use your own value\n"
      ],
      "metadata": {
        "id": "lg3f7FnDBuD2"
      },
      "execution_count": null,
      "outputs": []
    },
    {
      "cell_type": "code",
      "source": [
        "\n",
        "# Function to map each intensity level to output intensity level.\n",
        "def pixelVal(pix, Gmin, fmin, Gmax, fmax):\n",
        "\t\n",
        "\tif (0 <= pix and pix <= Gmin):\n",
        "\t\treturn (fmin / Gmin)*pix\n",
        "\telif (Gmin < pix and pix <= Gmax):\n",
        "\t\treturn ((fmax - fmin)/(Gmax - Gmin)) * (pix - Gmin) + fmin\n",
        "\telse:\n",
        "\t\treturn ((255 - fmax)/(255 - Gmax)) * (pix - Gmax) + fmax\n",
        "\n",
        "# Vectorize the function to apply it to each value in the Numpy array.\n",
        "pixelVal_vec = np.vectorize(pixelVal)\n",
        "\n",
        "# Apply contrast stretching.\n",
        "contrast_stretched = pixelVal_vec(img, Gmin, fmin, Gmax, fmax)\n"
      ],
      "metadata": {
        "id": "aecLwDiRt9RW"
      },
      "execution_count": null,
      "outputs": []
    },
    {
      "cell_type": "code",
      "source": [
        "# create figure\n",
        "rows=1\n",
        "columns=2\n",
        "fig = plt.figure(figsize=(10, 7))\n",
        "\n",
        "fig.add_subplot(rows, columns, 1)\n",
        "# showing image\n",
        "plt.imshow(img)\n",
        "plt.axis('off')\n",
        "plt.title(\"Original\")\n",
        "\n",
        "# Adds a subplot at the 2nd position\n",
        "fig.add_subplot(rows, columns, 2)\n",
        "# showing image\n",
        "plt.imshow(contrast_stretched)\n",
        "plt.axis('off')\n",
        "plt.title(\"Linear Transformation\") "
      ],
      "metadata": {
        "id": "70WcFJvvyC2L"
      },
      "execution_count": null,
      "outputs": []
    },
    {
      "cell_type": "markdown",
      "source": [
        "###Gamma Transformation"
      ],
      "metadata": {
        "id": "Lz7_Yd-PtaGf"
      }
    },
    {
      "cell_type": "code",
      "source": [
        "Gamma=[0.1, 0.3, 1, 3]\n",
        "# Trying 4 gamma values.\n",
        "for gamma in Gamma:\n",
        "\t# Apply gamma correction.\n",
        "\tgamma_corrected = np.array(255*(img / 255) ** gamma, dtype = 'uint8')\n",
        "\t# Save edited images.\n",
        "\tcv2.imwrite('gamma_transformed'+str(gamma)+'.jpg', gamma_corrected)"
      ],
      "metadata": {
        "id": "3-5t-j_HtY2e"
      },
      "execution_count": null,
      "outputs": []
    },
    {
      "cell_type": "code",
      "source": [
        "# create figure\n",
        "rows=2\n",
        "columns=2\n",
        "fig = plt.figure(figsize=(10, 7))\n",
        "\n",
        "img1 = cv2.imread('/content/gamma_transformed0.1.jpg')\n",
        "img1 = cv2.cvtColor(img1, cv2.COLOR_BGR2RGB)\n",
        "\n",
        "img2 = cv2.imread('/content/gamma_transformed0.3.jpg')\n",
        "img2 = cv2.cvtColor(img2, cv2.COLOR_BGR2RGB)\n",
        "\n",
        "img3 = cv2.imread('/content/gamma_transformed1.jpg')\n",
        "img3 = cv2.cvtColor(img3, cv2.COLOR_BGR2RGB)\n",
        "\n",
        "img4 = cv2.imread('/content/gamma_transformed3.jpg')\n",
        "img4 = cv2.cvtColor(img4, cv2.COLOR_BGR2RGB)\n",
        "\n",
        "fig.add_subplot(rows, columns, 1)\n",
        "# showing image\n",
        "plt.imshow(img1)\n",
        "plt.axis('off')\n",
        "plt.title(\"Gamma = 0.1\")\n",
        "\n",
        "# Adds a subplot at the 2nd position\n",
        "fig.add_subplot(rows, columns, 2)\n",
        "# showing image\n",
        "plt.imshow(img2)\n",
        "plt.axis('off')\n",
        "plt.title(\"Gamma = 0.3\") \n",
        "\n",
        "fig.add_subplot(rows, columns, 3)\n",
        "# showing image\n",
        "plt.imshow(img3)\n",
        "plt.axis('off')\n",
        "plt.title('Gamma = 1')\n",
        "\n",
        "# Adds a subplot at the 2nd position\n",
        "fig.add_subplot(rows, columns, 4)\n",
        "# showing image\n",
        "plt.imshow(img4)\n",
        "plt.axis('off')\n",
        "plt.title(\"Gamma = 3\") "
      ],
      "metadata": {
        "id": "RFCSxk5Q8bNX"
      },
      "execution_count": null,
      "outputs": []
    },
    {
      "cell_type": "code",
      "source": [
        "grayscale = cv2.cvtColor(img, cv2.COLOR_BGR2GRAY)\n",
        "c = 255/(np.log(1 + np.max(img))) #use your own value\n",
        "r=.4\n",
        "GofX= c*grayscale + r\n",
        "GofX=((grayscale -np.min(grayscale))/(np.max(grayscale)-np.min(grayscale))* (np.max(GofX)-np.min(GofX)))+ np.min(GofX)"
      ],
      "metadata": {
        "id": "9fa0UuaCVwRc"
      },
      "execution_count": null,
      "outputs": []
    },
    {
      "cell_type": "code",
      "source": [
        "# create figure\n",
        "rows=1\n",
        "columns=2\n",
        "fig = plt.figure(figsize=(10, 7))\n",
        "\n",
        "fig.add_subplot(rows, columns, 1)\n",
        "# showing image\n",
        "plt.imshow(img)\n",
        "plt.axis('off')\n",
        "plt.title(\"Original\")\n",
        "\n",
        "# Adds a subplot at the 2nd position\n",
        "fig.add_subplot(rows, columns, 2)\n",
        "# showing image\n",
        "plt.imshow(GofX)\n",
        "plt.axis('off')\n",
        "plt.title(\"Linear Transformation\") "
      ],
      "metadata": {
        "id": "UGEN6MFWWAAC"
      },
      "execution_count": null,
      "outputs": []
    },
    {
      "cell_type": "code",
      "source": [
        "plt.hist(img.ravel(),256,[0,256]); plt.show()\n",
        "plt.hist(log_transformed.ravel(),256,[0,256]); plt.show()"
      ],
      "metadata": {
        "id": "PJKogVoOVb49"
      },
      "execution_count": null,
      "outputs": []
    }
  ]
}